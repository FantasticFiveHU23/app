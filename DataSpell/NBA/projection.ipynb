{
 "cells": [
  {
   "cell_type": "code",
   "execution_count": 225,
   "metadata": {
    "collapsed": true
   },
   "outputs": [],
   "source": [
    "import   pandas as pd\n",
    "import numpy as np\n",
    "from matplotlib import pyplot as plt\n",
    "from sklearn.metrics import mean_squared_error, r2_score\n",
    "from sklearn.model_selection import train_test_split\n",
    "from sklearn.preprocessing import OneHotEncoder, LabelEncoder\n",
    "from nba_api.stats.endpoints import playergamelogs\n",
    "import plotly.graph_objects as go # for data visualization\n",
    "import plotly.express as px # for data visualization"
   ]
  },
  {
   "cell_type": "code",
   "execution_count": 226,
   "outputs": [
    {
     "data": {
      "text/plain": "      SEASON_YEAR  PLAYER_ID        PLAYER_NAME  NICKNAME     TEAM_ID  \\\n0         2021-22    1629680   Matisse Thybulle   Matisse  1610612755   \n1         2021-22     203200     Justin Holiday    Justin  1610612758   \n2         2021-22    1630163        LaMelo Ball    LaMelo  1610612766   \n3         2021-22    1630209     Omer Yurtseven      Omer  1610612748   \n4         2021-22    1630215       Jared Butler     Jared  1610612762   \n...           ...        ...                ...       ...         ...   \n26034     2021-22     201566  Russell Westbrook   Russell  1610612747   \n26035     2021-22    1627780     Gary Payton II      Gary  1610612744   \n26036     2021-22    1628370         Malik Monk     Malik  1610612747   \n26037     2021-22    1627761    DeAndre' Bembry  DeAndre'  1610612751   \n26038     2021-22    1630560         Cam Thomas       Cam  1610612751   \n\n      TEAM_ABBREVIATION              TEAM_NAME     GAME_ID  \\\n0                   PHI     Philadelphia 76ers  0022101228   \n1                   SAC       Sacramento Kings  0022101229   \n2                   CHA      Charlotte Hornets  0022101217   \n3                   MIA             Miami Heat  0022101227   \n4                   UTA              Utah Jazz  0022101230   \n...                 ...                    ...         ...   \n26034               LAL     Los Angeles Lakers  0022100002   \n26035               GSW  Golden State Warriors  0022100002   \n26036               LAL     Los Angeles Lakers  0022100002   \n26037               BKN          Brooklyn Nets  0022100001   \n26038               BKN          Brooklyn Nets  0022100001   \n\n                 GAME_DATE      MATCHUP  ... BLKA_RANK  PF_RANK  PFD_RANK  \\\n0      2022-04-10T00:00:00  PHI vs. DET  ...         1    22177     18239   \n1      2022-04-10T00:00:00    SAC @ PHX  ...     17438    22177     11915   \n2      2022-04-10T00:00:00  CHA vs. WAS  ...         1     5520      4544   \n3      2022-04-10T00:00:00    MIA @ ORL  ...         1     5520      4544   \n4      2022-04-10T00:00:00    UTA @ POR  ...         1    11965      7362   \n...                    ...          ...  ...       ...      ...       ...   \n26034  2021-10-19T00:00:00  LAL vs. GSW  ...         1    22177     11915   \n26035  2021-10-19T00:00:00    GSW @ LAL  ...         1        1     18239   \n26036  2021-10-19T00:00:00  LAL vs. GSW  ...         1     5520     18239   \n26037  2021-10-19T00:00:00    BKN @ MIL  ...         1        1     18239   \n26038  2021-10-19T00:00:00    BKN @ MIL  ...         1        1     11915   \n\n       PTS_RANK  PLUS_MINUS_RANK  NBA_FANTASY_PTS_RANK  DD2_RANK  TD3_RANK  \\\n0         14596            16281                 11817      2151       131   \n1          3883            17172                  7727      2151       131   \n2          1936             1348                  1833         1       131   \n3         14596             7652                  9732      2151       131   \n4          9927             2414                 14587      2151       131   \n...         ...              ...                   ...       ...       ...   \n26034     13258            25389                 15373      2151       131   \n26035     23122            12132                 25086      2151       131   \n26036     15707            21069                 15293      2151       131   \n26037     23122            20351                 25086      2151       131   \n26038     21059            20351                 24892      2151       131   \n\n       WNBA_FANTASY_PTS_RANK  VIDEO_AVAILABLE_FLAG  \n0                      13102                     1  \n1                       5470                     1  \n2                        686                     1  \n3                      10388                     1  \n4                      13102                     1  \n...                      ...                   ...  \n26034                  13837                     1  \n26035                  25115                     1  \n26036                  14542                     1  \n26037                  25115                     1  \n26038                  23891                     1  \n\n[26039 rows x 68 columns]",
      "text/html": "<div>\n<style scoped>\n    .dataframe tbody tr th:only-of-type {\n        vertical-align: middle;\n    }\n\n    .dataframe tbody tr th {\n        vertical-align: top;\n    }\n\n    .dataframe thead th {\n        text-align: right;\n    }\n</style>\n<table border=\"1\" class=\"dataframe\">\n  <thead>\n    <tr style=\"text-align: right;\">\n      <th></th>\n      <th>SEASON_YEAR</th>\n      <th>PLAYER_ID</th>\n      <th>PLAYER_NAME</th>\n      <th>NICKNAME</th>\n      <th>TEAM_ID</th>\n      <th>TEAM_ABBREVIATION</th>\n      <th>TEAM_NAME</th>\n      <th>GAME_ID</th>\n      <th>GAME_DATE</th>\n      <th>MATCHUP</th>\n      <th>...</th>\n      <th>BLKA_RANK</th>\n      <th>PF_RANK</th>\n      <th>PFD_RANK</th>\n      <th>PTS_RANK</th>\n      <th>PLUS_MINUS_RANK</th>\n      <th>NBA_FANTASY_PTS_RANK</th>\n      <th>DD2_RANK</th>\n      <th>TD3_RANK</th>\n      <th>WNBA_FANTASY_PTS_RANK</th>\n      <th>VIDEO_AVAILABLE_FLAG</th>\n    </tr>\n  </thead>\n  <tbody>\n    <tr>\n      <th>0</th>\n      <td>2021-22</td>\n      <td>1629680</td>\n      <td>Matisse Thybulle</td>\n      <td>Matisse</td>\n      <td>1610612755</td>\n      <td>PHI</td>\n      <td>Philadelphia 76ers</td>\n      <td>0022101228</td>\n      <td>2022-04-10T00:00:00</td>\n      <td>PHI vs. DET</td>\n      <td>...</td>\n      <td>1</td>\n      <td>22177</td>\n      <td>18239</td>\n      <td>14596</td>\n      <td>16281</td>\n      <td>11817</td>\n      <td>2151</td>\n      <td>131</td>\n      <td>13102</td>\n      <td>1</td>\n    </tr>\n    <tr>\n      <th>1</th>\n      <td>2021-22</td>\n      <td>203200</td>\n      <td>Justin Holiday</td>\n      <td>Justin</td>\n      <td>1610612758</td>\n      <td>SAC</td>\n      <td>Sacramento Kings</td>\n      <td>0022101229</td>\n      <td>2022-04-10T00:00:00</td>\n      <td>SAC @ PHX</td>\n      <td>...</td>\n      <td>17438</td>\n      <td>22177</td>\n      <td>11915</td>\n      <td>3883</td>\n      <td>17172</td>\n      <td>7727</td>\n      <td>2151</td>\n      <td>131</td>\n      <td>5470</td>\n      <td>1</td>\n    </tr>\n    <tr>\n      <th>2</th>\n      <td>2021-22</td>\n      <td>1630163</td>\n      <td>LaMelo Ball</td>\n      <td>LaMelo</td>\n      <td>1610612766</td>\n      <td>CHA</td>\n      <td>Charlotte Hornets</td>\n      <td>0022101217</td>\n      <td>2022-04-10T00:00:00</td>\n      <td>CHA vs. WAS</td>\n      <td>...</td>\n      <td>1</td>\n      <td>5520</td>\n      <td>4544</td>\n      <td>1936</td>\n      <td>1348</td>\n      <td>1833</td>\n      <td>1</td>\n      <td>131</td>\n      <td>686</td>\n      <td>1</td>\n    </tr>\n    <tr>\n      <th>3</th>\n      <td>2021-22</td>\n      <td>1630209</td>\n      <td>Omer Yurtseven</td>\n      <td>Omer</td>\n      <td>1610612748</td>\n      <td>MIA</td>\n      <td>Miami Heat</td>\n      <td>0022101227</td>\n      <td>2022-04-10T00:00:00</td>\n      <td>MIA @ ORL</td>\n      <td>...</td>\n      <td>1</td>\n      <td>5520</td>\n      <td>4544</td>\n      <td>14596</td>\n      <td>7652</td>\n      <td>9732</td>\n      <td>2151</td>\n      <td>131</td>\n      <td>10388</td>\n      <td>1</td>\n    </tr>\n    <tr>\n      <th>4</th>\n      <td>2021-22</td>\n      <td>1630215</td>\n      <td>Jared Butler</td>\n      <td>Jared</td>\n      <td>1610612762</td>\n      <td>UTA</td>\n      <td>Utah Jazz</td>\n      <td>0022101230</td>\n      <td>2022-04-10T00:00:00</td>\n      <td>UTA @ POR</td>\n      <td>...</td>\n      <td>1</td>\n      <td>11965</td>\n      <td>7362</td>\n      <td>9927</td>\n      <td>2414</td>\n      <td>14587</td>\n      <td>2151</td>\n      <td>131</td>\n      <td>13102</td>\n      <td>1</td>\n    </tr>\n    <tr>\n      <th>...</th>\n      <td>...</td>\n      <td>...</td>\n      <td>...</td>\n      <td>...</td>\n      <td>...</td>\n      <td>...</td>\n      <td>...</td>\n      <td>...</td>\n      <td>...</td>\n      <td>...</td>\n      <td>...</td>\n      <td>...</td>\n      <td>...</td>\n      <td>...</td>\n      <td>...</td>\n      <td>...</td>\n      <td>...</td>\n      <td>...</td>\n      <td>...</td>\n      <td>...</td>\n      <td>...</td>\n    </tr>\n    <tr>\n      <th>26034</th>\n      <td>2021-22</td>\n      <td>201566</td>\n      <td>Russell Westbrook</td>\n      <td>Russell</td>\n      <td>1610612747</td>\n      <td>LAL</td>\n      <td>Los Angeles Lakers</td>\n      <td>0022100002</td>\n      <td>2021-10-19T00:00:00</td>\n      <td>LAL vs. GSW</td>\n      <td>...</td>\n      <td>1</td>\n      <td>22177</td>\n      <td>11915</td>\n      <td>13258</td>\n      <td>25389</td>\n      <td>15373</td>\n      <td>2151</td>\n      <td>131</td>\n      <td>13837</td>\n      <td>1</td>\n    </tr>\n    <tr>\n      <th>26035</th>\n      <td>2021-22</td>\n      <td>1627780</td>\n      <td>Gary Payton II</td>\n      <td>Gary</td>\n      <td>1610612744</td>\n      <td>GSW</td>\n      <td>Golden State Warriors</td>\n      <td>0022100002</td>\n      <td>2021-10-19T00:00:00</td>\n      <td>GSW @ LAL</td>\n      <td>...</td>\n      <td>1</td>\n      <td>1</td>\n      <td>18239</td>\n      <td>23122</td>\n      <td>12132</td>\n      <td>25086</td>\n      <td>2151</td>\n      <td>131</td>\n      <td>25115</td>\n      <td>1</td>\n    </tr>\n    <tr>\n      <th>26036</th>\n      <td>2021-22</td>\n      <td>1628370</td>\n      <td>Malik Monk</td>\n      <td>Malik</td>\n      <td>1610612747</td>\n      <td>LAL</td>\n      <td>Los Angeles Lakers</td>\n      <td>0022100002</td>\n      <td>2021-10-19T00:00:00</td>\n      <td>LAL vs. GSW</td>\n      <td>...</td>\n      <td>1</td>\n      <td>5520</td>\n      <td>18239</td>\n      <td>15707</td>\n      <td>21069</td>\n      <td>15293</td>\n      <td>2151</td>\n      <td>131</td>\n      <td>14542</td>\n      <td>1</td>\n    </tr>\n    <tr>\n      <th>26037</th>\n      <td>2021-22</td>\n      <td>1627761</td>\n      <td>DeAndre' Bembry</td>\n      <td>DeAndre'</td>\n      <td>1610612751</td>\n      <td>BKN</td>\n      <td>Brooklyn Nets</td>\n      <td>0022100001</td>\n      <td>2021-10-19T00:00:00</td>\n      <td>BKN @ MIL</td>\n      <td>...</td>\n      <td>1</td>\n      <td>1</td>\n      <td>18239</td>\n      <td>23122</td>\n      <td>20351</td>\n      <td>25086</td>\n      <td>2151</td>\n      <td>131</td>\n      <td>25115</td>\n      <td>1</td>\n    </tr>\n    <tr>\n      <th>26038</th>\n      <td>2021-22</td>\n      <td>1630560</td>\n      <td>Cam Thomas</td>\n      <td>Cam</td>\n      <td>1610612751</td>\n      <td>BKN</td>\n      <td>Brooklyn Nets</td>\n      <td>0022100001</td>\n      <td>2021-10-19T00:00:00</td>\n      <td>BKN @ MIL</td>\n      <td>...</td>\n      <td>1</td>\n      <td>1</td>\n      <td>11915</td>\n      <td>21059</td>\n      <td>20351</td>\n      <td>24892</td>\n      <td>2151</td>\n      <td>131</td>\n      <td>23891</td>\n      <td>1</td>\n    </tr>\n  </tbody>\n</table>\n<p>26039 rows × 68 columns</p>\n</div>"
     },
     "execution_count": 226,
     "metadata": {},
     "output_type": "execute_result"
    }
   ],
   "source": [
    "# 2022-23 Logs\n",
    "game_logs = playergamelogs.PlayerGameLogs(\n",
    "    season_nullable='2021-22'\n",
    ")\n",
    "data = game_logs.get_data_frames()[0]\n",
    "data"
   ],
   "metadata": {
    "collapsed": false
   }
  },
  {
   "cell_type": "code",
   "execution_count": 227,
   "outputs": [],
   "source": [
    "ohe = OneHotEncoder()\n",
    "le = LabelEncoder()\n",
    "\n",
    "data['MATCHUP'] = data['MATCHUP'].apply(lambda x: x.split()[2])"
   ],
   "metadata": {
    "collapsed": false
   }
  },
  {
   "cell_type": "code",
   "execution_count": 228,
   "outputs": [
    {
     "data": {
      "text/plain": "{'TEAM_ABBREVIATION': {'ATL': 0,\n  'BKN': 1,\n  'BOS': 2,\n  'CHA': 3,\n  'CHI': 4,\n  'CLE': 5,\n  'DAL': 6,\n  'DEN': 7,\n  'DET': 8,\n  'GSW': 9,\n  'HOU': 10,\n  'IND': 11,\n  'LAC': 12,\n  'LAL': 13,\n  'MEM': 14,\n  'MIA': 15,\n  'MIL': 16,\n  'MIN': 17,\n  'NOP': 18,\n  'NYK': 19,\n  'OKC': 20,\n  'ORL': 21,\n  'PHI': 22,\n  'PHX': 23,\n  'POR': 24,\n  'SAC': 25,\n  'SAS': 26,\n  'TOR': 27,\n  'UTA': 28,\n  'WAS': 29},\n 'MATCHUP': {'ATL': 0,\n  'BKN': 1,\n  'BOS': 2,\n  'CHA': 3,\n  'CHI': 4,\n  'CLE': 5,\n  'DAL': 6,\n  'DEN': 7,\n  'DET': 8,\n  'GSW': 9,\n  'HOU': 10,\n  'IND': 11,\n  'LAC': 12,\n  'LAL': 13,\n  'MEM': 14,\n  'MIA': 15,\n  'MIL': 16,\n  'MIN': 17,\n  'NOP': 18,\n  'NYK': 19,\n  'OKC': 20,\n  'ORL': 21,\n  'PHI': 22,\n  'PHX': 23,\n  'POR': 24,\n  'SAC': 25,\n  'SAS': 26,\n  'TOR': 27,\n  'UTA': 28,\n  'WAS': 29},\n 'PLAYER_NAME': {'Aaron Gordon': 0,\n  'Aaron Henry': 1,\n  'Aaron Holiday': 2,\n  'Aaron Nesmith': 3,\n  'Aaron Wiggins': 4,\n  'Abdel Nader': 5,\n  'Ade Murkey': 6,\n  'Admiral Schofield': 7,\n  'Ahmad Caver': 8,\n  'Al Horford': 9,\n  'Alec Burks': 10,\n  'Aleem Ford': 11,\n  'Aleksej Pokusevski': 12,\n  'Alex Caruso': 13,\n  'Alex Len': 14,\n  'Alfonzo McKinnie': 15,\n  'Alize Johnson': 16,\n  'Alperen Sengun': 17,\n  'Amir Coffey': 18,\n  'Andre Drummond': 19,\n  'Andre Iguodala': 20,\n  'Andrew Wiggins': 21,\n  'Anfernee Simons': 22,\n  'Anthony Davis': 23,\n  'Anthony Edwards': 24,\n  'Anthony Gill': 25,\n  'Anthony Lamb': 26,\n  'Armoni Brooks': 27,\n  'Arnoldas Kulboka': 28,\n  'Austin Reaves': 29,\n  'Austin Rivers': 30,\n  'Avery Bradley': 31,\n  'Ayo Dosunmu': 32,\n  'BJ Johnson': 33,\n  'Bam Adebayo': 34,\n  'Ben McLemore': 35,\n  'Bismack Biyombo': 36,\n  'Blake Griffin': 37,\n  'Boban Marjanovic': 38,\n  'Bobby Portis': 39,\n  'Bogdan Bogdanovic': 40,\n  'Bojan Bogdanovic': 41,\n  'Bol Bol': 42,\n  'Bones Hyland': 43,\n  'Brad Wanamaker': 44,\n  'Bradley Beal': 45,\n  'Brandon Boston Jr.': 46,\n  'Brandon Clarke': 47,\n  'Brandon Goodwin': 48,\n  'Brandon Ingram': 49,\n  'Brandon Knight': 50,\n  'Brandon Williams': 51,\n  'Braxton Key': 52,\n  'Brodric Thomas': 53,\n  'Brook Lopez': 54,\n  'Bruce Brown': 55,\n  'Bruno Fernando': 56,\n  'Bryn Forbes': 57,\n  'Buddy Hield': 58,\n  'CJ Elleby': 59,\n  'CJ McCollum': 60,\n  'CJ Miles': 61,\n  'Cade Cunningham': 62,\n  'Caleb Martin': 63,\n  'Cam Reddish': 64,\n  'Cam Thomas': 65,\n  'Cameron Johnson': 66,\n  'Cameron McGriff': 67,\n  'Cameron Oliver': 68,\n  'Cameron Payne': 69,\n  'Caris LeVert': 70,\n  'Carlik Jones': 71,\n  'Carmelo Anthony': 72,\n  'Carsen Edwards': 73,\n  'Cassius Stanley': 74,\n  'Cassius Winston': 75,\n  'Cat Barber': 76,\n  'Cedi Osman': 77,\n  'Chandler Hutchison': 78,\n  'Charles Bassey': 79,\n  'Charlie Brown Jr.': 80,\n  'Chaundee Brown Jr.': 81,\n  'Cheick Diallo': 82,\n  'Chimezie Metu': 83,\n  'Chris Boucher': 84,\n  'Chris Chiozza': 85,\n  'Chris Duarte': 86,\n  'Chris Paul': 87,\n  'Chris Silva': 88,\n  'Christian Wood': 89,\n  'Chuma Okeke': 90,\n  'Clint Capela': 91,\n  'Coby White': 92,\n  'Cody Martin': 93,\n  'Cody Zeller': 94,\n  'Cole Anthony': 95,\n  'Collin Sexton': 96,\n  'Corey Kispert': 97,\n  'Cory Joseph': 98,\n  'Craig Sword': 99,\n  \"D'Angelo Russell\": 100,\n  'D.J. Augustin': 101,\n  'D.J. Wilson': 102,\n  'DaQuan Jeffries': 103,\n  'Daishen Nix': 104,\n  'Dakota Mathias': 105,\n  'Dalano Banton': 106,\n  'Damian Jones': 107,\n  'Damian Lillard': 108,\n  'Damion Lee': 109,\n  'Damyean Dotson': 110,\n  'Daniel Gafford': 111,\n  'Daniel Oturu': 112,\n  'Daniel Theis': 113,\n  'Danilo Gallinari': 114,\n  'Danny Green': 115,\n  'Danuel House Jr.': 116,\n  'Darius Bazley': 117,\n  'Darius Garland': 118,\n  'Darren Collison': 119,\n  'David Duke Jr.': 120,\n  'David Johnson': 121,\n  'David Nwaba': 122,\n  'Davion Mitchell': 123,\n  'Davis Bertans': 124,\n  'Davon Reed': 125,\n  \"Day'Ron Sharpe\": 126,\n  \"De'Aaron Fox\": 127,\n  \"De'Andre Hunter\": 128,\n  \"De'Anthony Melton\": 129,\n  'DeAndre Jordan': 130,\n  \"DeAndre' Bembry\": 131,\n  'DeJon Jarreau': 132,\n  'DeMar DeRozan': 133,\n  'DeMarcus Cousins': 134,\n  'Dean Wade': 135,\n  'Deandre Ayton': 136,\n  'Deividas Sirvydis': 137,\n  'Dejounte Murray': 138,\n  'Delon Wright': 139,\n  'Deni Avdija': 140,\n  'Dennis Schroder': 141,\n  'Dennis Smith Jr.': 142,\n  'Denzel Valentine': 143,\n  'Derrick Favors': 144,\n  'Derrick Jones Jr.': 145,\n  'Derrick Rose': 146,\n  'Derrick Walton Jr.': 147,\n  'Derrick White': 148,\n  'Desmond Bane': 149,\n  'Devin Booker': 150,\n  'Devin Cannady': 151,\n  'Devin Vassell': 152,\n  'Devon Dotson': 153,\n  'Devontae Cacok': 154,\n  \"Devonte' Graham\": 155,\n  'Dewayne Dedmon': 156,\n  'Didi Louzada': 157,\n  'Dillon Brooks': 158,\n  'Domantas Sabonis': 159,\n  'Donovan Mitchell': 160,\n  'Donte DiVincenzo': 161,\n  'Dorian Finney-Smith': 162,\n  'Doug McDermott': 163,\n  'Draymond Green': 164,\n  'Drew Eubanks': 165,\n  'Duane Washington Jr.': 166,\n  'Duncan Robinson': 167,\n  'Dwight Howard': 168,\n  'Dwight Powell': 169,\n  'Dylan Windler': 170,\n  'Ed Davis': 171,\n  'Elfrid Payton': 172,\n  'Elijah Hughes': 173,\n  'Emanuel Terry': 174,\n  'Emmanuel Mudiay': 175,\n  'Enes Freedom': 176,\n  'Eric Bledsoe': 177,\n  'Eric Gordon': 178,\n  'Eric Paschall': 179,\n  'Eugene Omoruyi': 180,\n  'Evan Fournier': 181,\n  'Evan Mobley': 182,\n  'Facundo Campazzo': 183,\n  'Feron Hunt': 184,\n  'Frank Jackson': 185,\n  'Frank Kaminsky': 186,\n  'Frank Ntilikina': 187,\n  'Franz Wagner': 188,\n  'Fred VanVleet': 189,\n  'Freddie Gillespie': 190,\n  'Furkan Korkmaz': 191,\n  'Gabe Vincent': 192,\n  'Gabe York': 193,\n  'Gabriel Deck': 194,\n  'Gabriel Lundberg': 195,\n  'Garrett Temple': 196,\n  'Garrison Mathews': 197,\n  'Gary Clark': 198,\n  'Gary Harris': 199,\n  'Gary Payton II': 200,\n  'Gary Trent Jr.': 201,\n  'George Hill': 202,\n  'George King': 203,\n  'Georges Niang': 204,\n  'Georgios Kalaitzakis': 205,\n  'Giannis Antetokounmpo': 206,\n  'Goga Bitadze': 207,\n  'Goran Dragic': 208,\n  'Gordon Hayward': 209,\n  'Gorgui Dieng': 210,\n  'Grant Williams': 211,\n  'Grayson Allen': 212,\n  'Greg Brown III': 213,\n  'Greg Monroe': 214,\n  'Hamidou Diallo': 215,\n  'Harrison Barnes': 216,\n  'Hassan Whiteside': 217,\n  'Hassani Gravett': 218,\n  'Haywood Highsmith': 219,\n  'Herbert Jones': 220,\n  'Ignas Brazdeikis': 221,\n  'Immanuel Quickley': 222,\n  'Isaac Bonga': 223,\n  'Isaac Okoro': 224,\n  'Isaiah Hartenstein': 225,\n  'Isaiah Jackson': 226,\n  'Isaiah Joe': 227,\n  'Isaiah Livers': 228,\n  'Isaiah Roby': 229,\n  'Isaiah Stewart': 230,\n  'Isaiah Thomas': 231,\n  'Isaiah Todd': 232,\n  'Ish Smith': 233,\n  'Ish Wainright': 234,\n  'Ivica Zubac': 235,\n  'JT Thor': 236,\n  'Ja Morant': 237,\n  'JaMychal Green': 238,\n  'JaQuori McLaughlin': 239,\n  'JaVale McGee': 240,\n  'Jabari Parker': 241,\n  'Jaden McDaniels': 242,\n  'Jaden Springer': 243,\n  'Jae Crowder': 244,\n  \"Jae'Sean Tate\": 245,\n  \"Jahmi'us Ramsey\": 246,\n  'Jaime Echenique': 247,\n  'Jake Layman': 248,\n  'Jakob Poeltl': 249,\n  'Jalen Brunson': 250,\n  'Jalen Green': 251,\n  'Jalen Johnson': 252,\n  'Jalen McDaniels': 253,\n  'Jalen Smith': 254,\n  'Jalen Suggs': 255,\n  'James Bouknight': 256,\n  'James Ennis III': 257,\n  'James Harden': 258,\n  'James Johnson': 259,\n  'Jamorko Pickett': 260,\n  'Jared Butler': 261,\n  'Jared Harper': 262,\n  'Jaren Jackson Jr.': 263,\n  'Jarred Vanderbilt': 264,\n  'Jarrett Allen': 265,\n  'Jarrett Culver': 266,\n  'Jarron Cumberland': 267,\n  'Javin DeLaurier': 268,\n  'Javonte Green': 269,\n  'Javonte Smart': 270,\n  'Jaxson Hayes': 271,\n  'Jay Huff': 272,\n  'Jay Scrubb': 273,\n  'Jaylen Brown': 274,\n  'Jaylen Hoard': 275,\n  'Jaylen Morris': 276,\n  'Jaylen Nowell': 277,\n  'Jaysean Paige': 278,\n  'Jayson Tatum': 279,\n  'Jeff Dowtin Jr.': 280,\n  'Jeff Green': 281,\n  'Jemerrio Jones': 282,\n  'Jerami Grant': 283,\n  'Jeremiah Robinson-Earl': 284,\n  'Jeremy Lamb': 285,\n  'Jericho Sims': 286,\n  'Jevon Carter': 287,\n  'Jimmy Butler': 288,\n  'Jock Landale': 289,\n  'Joe Harris': 290,\n  'Joe Ingles': 291,\n  'Joe Johnson': 292,\n  'Joe Wieskamp': 293,\n  'Joel Ayayi': 294,\n  'Joel Embiid': 295,\n  'John Collins': 296,\n  'John Konchar': 297,\n  'Jon Teske': 298,\n  'Jonas Valanciunas': 299,\n  'Jonathan Kuminga': 300,\n  'Jordan Bell': 301,\n  'Jordan Clarkson': 302,\n  'Jordan Goodwin': 303,\n  'Jordan McLaughlin': 304,\n  'Jordan Nwora': 305,\n  'Jordan Poole': 306,\n  'Jordan Schakel': 307,\n  'Jose Alvarado': 308,\n  'Josh Christopher': 309,\n  'Josh Giddey': 310,\n  'Josh Green': 311,\n  'Josh Hart': 312,\n  'Josh Jackson': 313,\n  'Josh Okogie': 314,\n  'Josh Richardson': 315,\n  'Joshua Primo': 316,\n  'Jrue Holiday': 317,\n  'Juan Toscano-Anderson': 318,\n  'Juancho Hernangomez': 319,\n  'Julius Randle': 320,\n  'Justin Anderson': 321,\n  'Justin Champagnie': 322,\n  'Justin Holiday': 323,\n  'Justin Jackson': 324,\n  'Justin Robinson': 325,\n  'Justise Winslow': 326,\n  'Jusuf Nurkic': 327,\n  'Juwan Morgan': 328,\n  'KZ Okpala': 329,\n  'Kai Jones': 330,\n  'Karl-Anthony Towns': 331,\n  'Keifer Sykes': 332,\n  'Keita Bates-Diop': 333,\n  'Kelan Martin': 334,\n  'Keldon Johnson': 335,\n  'Keljin Blevins': 336,\n  'Kelly Olynyk': 337,\n  'Kelly Oubre Jr.': 338,\n  'Kemba Walker': 339,\n  'Kenrich Williams': 340,\n  'Kent Bazemore': 341,\n  'Kentavious Caldwell-Pope': 342,\n  'Kenyon Martin Jr.': 343,\n  'Keon Johnson': 344,\n  'Kessler Edwards': 345,\n  'Kevin Durant': 346,\n  'Kevin Huerter': 347,\n  'Kevin Knox II': 348,\n  'Kevin Love': 349,\n  'Kevin Pangos': 350,\n  'Kevin Porter Jr.': 351,\n  'Kevon Looney': 352,\n  'Khem Birch': 353,\n  'Khris Middleton': 354,\n  'Killian Hayes': 355,\n  'Killian Tillie': 356,\n  'Kira Lewis Jr.': 357,\n  'Klay Thompson': 358,\n  'Kris Dunn': 359,\n  'Kristaps Porzingis': 360,\n  'Kyle Anderson': 361,\n  'Kyle Guy': 362,\n  'Kyle Kuzma': 363,\n  'Kyle Lowry': 364,\n  'Kyrie Irving': 365,\n  'LaMarcus Aldridge': 366,\n  'LaMelo Ball': 367,\n  'Lamar Stevens': 368,\n  'Lance Stephenson': 369,\n  'Landry Shamet': 370,\n  'Langston Galloway': 371,\n  'Larry Nance Jr.': 372,\n  'Lauri Markkanen': 373,\n  'LeBron James': 374,\n  'Leandro Bolmaro': 375,\n  'Lindell Wigginton': 376,\n  'Lindy Waters III': 377,\n  'Lonnie Walker IV': 378,\n  'Lonzo Ball': 379,\n  'Lou Williams': 380,\n  'Louis King': 381,\n  'Luguentz Dort': 382,\n  'Luka Doncic': 383,\n  'Luka Garza': 384,\n  'Luke Kennard': 385,\n  'Luke Kornet': 386,\n  'MJ Walker': 387,\n  'Mac McClung': 388,\n  'Malachi Flynn': 389,\n  'Malcolm Brogdon': 390,\n  'Malcolm Hill': 391,\n  'Malik Beasley': 392,\n  'Malik Fitts': 393,\n  'Malik Monk': 394,\n  'Malik Newman': 395,\n  'Mamadi Diakite': 396,\n  'Marcus Garrett': 397,\n  'Marcus Morris Sr.': 398,\n  'Marcus Smart': 399,\n  'Markelle Fultz': 400,\n  'Markieff Morris': 401,\n  'Marko Simonovic': 402,\n  'Markus Howard': 403,\n  'Marquese Chriss': 404,\n  'Marvin Bagley III': 405,\n  'Mason Jones': 406,\n  'Mason Plumlee': 407,\n  'Matisse Thybulle': 408,\n  'Matt Mooney': 409,\n  'Matt Ryan': 410,\n  'Matt Thomas': 411,\n  'Maurice Harkless': 412,\n  'Max Strus': 413,\n  'Maxi Kleber': 414,\n  'McKinley Wright IV': 415,\n  'Melvin Frazier Jr.': 416,\n  'Micah Potter': 417,\n  'Michael Porter Jr.': 418,\n  'Mikal Bridges': 419,\n  'Mike Conley': 420,\n  'Mike Muscala': 421,\n  'Miles Bridges': 422,\n  'Miles McBride': 423,\n  'Mitchell Robinson': 424,\n  'Miye Oni': 425,\n  'Mo Bamba': 426,\n  'Monte Morris': 427,\n  'Montrezl Harrell': 428,\n  'Moritz Wagner': 429,\n  'Moses Brown': 430,\n  'Moses Moody': 431,\n  'Moses Wright': 432,\n  'Mychal Mulder': 433,\n  'Myles Powell': 434,\n  'Myles Turner': 435,\n  'Naji Marshall': 436,\n  'Nassir Little': 437,\n  'Nate Hinton': 438,\n  'Nathan Knight': 439,\n  'Naz Reid': 440,\n  'Neemias Queta': 441,\n  'Nemanja Bjelica': 442,\n  'Nerlens Noel': 443,\n  'Nic Claxton': 444,\n  'Nick Richards': 445,\n  'Nickeil Alexander-Walker': 446,\n  'Nicolas Batum': 447,\n  'Nik Stauskas': 448,\n  'Nikola Jokic': 449,\n  'Nikola Vucevic': 450,\n  'Norman Powell': 451,\n  'Norvel Pelle': 452,\n  'O.G. Anunoby': 453,\n  'Obi Toppin': 454,\n  'Olivier Sarr': 455,\n  'Omer Yurtseven': 456,\n  'Onyeka Okongwu': 457,\n  'Oshae Brissett': 458,\n  'Otto Porter Jr.': 459,\n  'P.J. Tucker': 460,\n  'P.J. Washington': 461,\n  'PJ Dozier': 462,\n  'Paris Bass': 463,\n  'Pascal Siakam': 464,\n  'Pat Connaughton': 465,\n  'Patrick Beverley': 466,\n  'Patrick Williams': 467,\n  'Patty Mills': 468,\n  'Paul George': 469,\n  'Paul Millsap': 470,\n  'Paul Reed': 471,\n  'Paul Watson': 472,\n  'Payton Pritchard': 473,\n  'Petr Cornelie': 474,\n  'Precious Achiuwa': 475,\n  'Quentin Grimes': 476,\n  'Quinndary Weatherspoon': 477,\n  'R.J. Hampton': 478,\n  'RJ Barrett': 479,\n  'RJ Nembhard Jr.': 480,\n  'Rajon Rondo': 481,\n  'Raul Neto': 482,\n  'Rayjon Tucker': 483,\n  'Reggie Bullock': 484,\n  'Reggie Jackson': 485,\n  'Reggie Perry': 486,\n  'Richaun Holmes': 487,\n  'Ricky Rubio': 488,\n  'Rob Edwards': 489,\n  'Robert Covington': 490,\n  'Robert Williams III': 491,\n  'Robert Woodard II': 492,\n  'Robin Lopez': 493,\n  'Rodney Hood': 494,\n  'Rodney McGruder': 495,\n  'Romeo Langford': 496,\n  \"Royce O'Neale\": 497,\n  'Rudy Gay': 498,\n  'Rudy Gobert': 499,\n  'Rui Hachimura': 500,\n  'Russell Westbrook': 501,\n  'Ryan Arcidiacono': 502,\n  'Saben Lee': 503,\n  'Saddiq Bey': 504,\n  'Sam Dekker': 505,\n  'Sam Hauser': 506,\n  'Sam Merrill': 507,\n  'Sandro Mamukelashvili': 508,\n  'Santi Aldama': 509,\n  'Scottie Barnes': 510,\n  'Scottie Lewis': 511,\n  'Scotty Hopson': 512,\n  'Sekou Doumbouya': 513,\n  'Semi Ojeleye': 514,\n  'Serge Ibaka': 515,\n  'Seth Curry': 516,\n  'Shai Gilgeous-Alexander': 517,\n  'Shake Milton': 518,\n  'Shaq Buchanan': 519,\n  'Shaquille Harrison': 520,\n  'Sharife Cooper': 521,\n  'Skylar Mays': 522,\n  'Solomon Hill': 523,\n  'Spencer Dinwiddie': 524,\n  'Stanley Johnson': 525,\n  'Stephen Curry': 526,\n  'Sterling Brown': 527,\n  'Steven Adams': 528,\n  'Svi Mykhailiuk': 529,\n  'T.J. McConnell': 530,\n  'Tacko Fall': 531,\n  'Taj Gibson': 532,\n  'Talen Horton-Tucker': 533,\n  'Taurean Prince': 534,\n  'Terance Mann': 535,\n  'Terence Davis': 536,\n  'Terrence Ross': 537,\n  'Terry Rozier': 538,\n  'Terry Taylor': 539,\n  'Thaddeus Young': 540,\n  'Thanasis Antetokounmpo': 541,\n  'Theo Maledon': 542,\n  'Theo Pinson': 543,\n  'Thomas Bryant': 544,\n  'Tim Frazier': 545,\n  'Tim Hardaway Jr.': 546,\n  'Timothe Luwawu-Cabarrot': 547,\n  'Tobias Harris': 548,\n  'Tomas Satoransky': 549,\n  'Tony Bradley': 550,\n  'Tony Snell': 551,\n  'Torrey Craig': 552,\n  'Trae Young': 553,\n  'Trayvon Palmer': 554,\n  'Tre Jones': 555,\n  'Tre Mann': 556,\n  'Tremont Waters': 557,\n  'Trendon Watford': 558,\n  'Trent Forrest': 559,\n  'Trevelin Queen': 560,\n  'Trevon Scott': 561,\n  'Trevor Ariza': 562,\n  'Trey Burke': 563,\n  'Trey Lyles': 564,\n  'Trey Murphy III': 565,\n  'Tristan Thompson': 566,\n  'Troy Brown Jr.': 567,\n  'Ty Jerome': 568,\n  'Tyler Cook': 569,\n  'Tyler Hall': 570,\n  'Tyler Herro': 571,\n  'Tyler Johnson': 572,\n  'Tyrell Terry': 573,\n  'Tyrese Haliburton': 574,\n  'Tyrese Maxey': 575,\n  'Tyrone Wallace': 576,\n  'Tyus Jones': 577,\n  'Udoka Azubuike': 578,\n  'Udonis Haslem': 579,\n  'Usman Garuba': 580,\n  'Vernon Carey Jr.': 581,\n  'Victor Oladipo': 582,\n  'Vit Krejci': 583,\n  'Vlatko Cancar': 584,\n  'Wayne Ellington': 585,\n  'Wayne Selden': 586,\n  'Wendell Carter Jr.': 587,\n  'Wenyen Gabriel': 588,\n  'Wes Iwundu': 589,\n  'Wesley Matthews': 590,\n  'Will Barton': 591,\n  'Willie Cauley-Stein': 592,\n  'Willy Hernangomez': 593,\n  'Xavier Moon': 594,\n  'Xavier Sneed': 595,\n  'Xavier Tillman': 596,\n  'Yuta Watanabe': 597,\n  'Yves Pons': 598,\n  'Zach Collins': 599,\n  'Zach LaVine': 600,\n  'Zavier Simpson': 601,\n  'Zeke Nnaji': 602,\n  'Ziaire Williams': 603,\n  'Zylan Cheatham': 604}}"
     },
     "execution_count": 228,
     "metadata": {},
     "output_type": "execute_result"
    }
   ],
   "source": [
    "cols_cat = ['TEAM_ABBREVIATION', 'MATCHUP', 'PLAYER_NAME']\n",
    "def encode_columns(dataset):\n",
    "    export = {}\n",
    "    for col in cols_cat:\n",
    "        dataset[col] = le.fit_transform(dataset[col])\n",
    "        enc_dict = dict(zip(le.classes_, le.transform(le.classes_)))\n",
    "        export[col] = enc_dict\n",
    "    return export\n",
    "le_dict = encode_columns(data)\n",
    "le_dict"
   ],
   "metadata": {
    "collapsed": false
   }
  },
  {
   "cell_type": "code",
   "execution_count": 229,
   "outputs": [],
   "source": [
    "X_cols_num = ['MIN', 'FGA', 'FG3A', 'FTA']\n",
    "y_cols = ['PTS']\n",
    "\n",
    "pts_X = data[X_cols_num]\n",
    "pts_y = data[y_cols]\n",
    "\n",
    "X_train_pts, X_test_pts, y_train_pts, y_test_pts = train_test_split(pts_X, pts_y, train_size=0.8)"
   ],
   "metadata": {
    "collapsed": false
   }
  },
  {
   "cell_type": "markdown",
   "source": [
    "# SVR Model (No Tuning)"
   ],
   "metadata": {
    "collapsed": false
   }
  },
  {
   "cell_type": "code",
   "execution_count": 230,
   "outputs": [
    {
     "name": "stderr",
     "output_type": "stream",
     "text": [
      "/Users/iyinoluwatugbobo/Library/Application Support/JetBrains/DataSpell2022.3/projects/workspace/venv/lib/python3.6/site-packages/sklearn/utils/validation.py:63: DataConversionWarning:\n",
      "\n",
      "A column-vector y was passed when a 1d array was expected. Please change the shape of y to (n_samples, ), for example using ravel().\n",
      "\n"
     ]
    },
    {
     "name": "stdout",
     "output_type": "stream",
     "text": [
      "[LibSVM]"
     ]
    }
   ],
   "source": [
    "from sklearn.svm import SVR\n",
    "alpha = SVR(verbose=True).fit(X_train_pts, y_train_pts)"
   ],
   "metadata": {
    "collapsed": false
   }
  },
  {
   "cell_type": "code",
   "execution_count": 231,
   "outputs": [
    {
     "name": "stdout",
     "output_type": "stream",
     "text": [
      "MSE: 12.51200917547805\n",
      "R2: 0.8379015183739547\n"
     ]
    }
   ],
   "source": [
    "alpha_pred_pts = alpha.predict(X_test_pts)\n",
    "print(f\"MSE: {mean_squared_error(y_test_pts, alpha_pred_pts)}\")\n",
    "print(f\"R2: {r2_score(y_test_pts, alpha_pred_pts)}\")"
   ],
   "metadata": {
    "collapsed": false
   }
  },
  {
   "cell_type": "markdown",
   "source": [
    "# SVR Models (w/ Tuning)"
   ],
   "metadata": {
    "collapsed": false
   }
  },
  {
   "cell_type": "code",
   "execution_count": 235,
   "outputs": [
    {
     "name": "stderr",
     "output_type": "stream",
     "text": [
      "/Users/iyinoluwatugbobo/Library/Application Support/JetBrains/DataSpell2022.3/projects/workspace/venv/lib/python3.6/site-packages/sklearn/utils/validation.py:63: DataConversionWarning:\n",
      "\n",
      "A column-vector y was passed when a 1d array was expected. Please change the shape of y to (n_samples, ), for example using ravel().\n",
      "\n"
     ]
    }
   ],
   "source": [
    "beta = SVR(\n",
    "    kernel='rbf', C=1000, epsilon=1\n",
    ").fit(X_train_pts, y_train_pts)"
   ],
   "metadata": {
    "collapsed": false
   }
  },
  {
   "cell_type": "code",
   "execution_count": 236,
   "outputs": [
    {
     "name": "stdout",
     "output_type": "stream",
     "text": [
      "MSE: 12.32370799115103\n",
      "R2: 0.8403410415264486\n"
     ]
    }
   ],
   "source": [
    "beta_pred_pts = beta.predict(X_test_pts)\n",
    "print(f\"MSE: {mean_squared_error(y_test_pts, beta_pred_pts)}\")\n",
    "print(f\"R2: {r2_score(y_test_pts, beta_pred_pts)}\")"
   ],
   "metadata": {
    "collapsed": false
   }
  },
  {
   "cell_type": "code",
   "execution_count": 234,
   "outputs": [
    {
     "data": {
      "text/plain": "array([30.35509605])"
     },
     "execution_count": 234,
     "metadata": {},
     "output_type": "execute_result"
    }
   ],
   "source": [
    "player_key = le_dict['PLAYER_NAME']\n",
    "team_key = le_dict['TEAM_ABBREVIATION']\n",
    "\n",
    "beta.predict([[\n",
    "    37,\n",
    "    21.4,\n",
    "    9.3,\n",
    "    8.5\n",
    "]])"
   ],
   "metadata": {
    "collapsed": false
   }
  },
  {
   "cell_type": "code",
   "execution_count": 238,
   "outputs": [
    {
     "name": "stderr",
     "output_type": "stream",
     "text": [
      "/Users/iyinoluwatugbobo/Library/Application Support/JetBrains/DataSpell2022.3/projects/workspace/venv/lib/python3.6/site-packages/sklearn/utils/validation.py:63: DataConversionWarning:\n",
      "\n",
      "A column-vector y was passed when a 1d array was expected. Please change the shape of y to (n_samples, ), for example using ravel().\n",
      "\n"
     ]
    }
   ],
   "source": [
    "chi = SVR(\n",
    "    kernel='rbf', C=100, epsilon=1\n",
    ").fit(X_train_pts, y_train_pts)"
   ],
   "metadata": {
    "collapsed": false
   }
  },
  {
   "cell_type": "code",
   "execution_count": 239,
   "outputs": [
    {
     "name": "stdout",
     "output_type": "stream",
     "text": [
      "MSE: 12.237945771545863\n",
      "R2: 0.8414521281140546\n"
     ]
    }
   ],
   "source": [
    "chi_pred_pts = chi.predict(X_test_pts)\n",
    "print(f\"MSE: {mean_squared_error(y_test_pts, chi_pred_pts)}\")\n",
    "print(f\"R2: {r2_score(y_test_pts, chi_pred_pts)}\")"
   ],
   "metadata": {
    "collapsed": false
   }
  },
  {
   "cell_type": "code",
   "execution_count": 250,
   "outputs": [
    {
     "name": "stdout",
     "output_type": "stream",
     "text": [
      "C=1\n",
      "MSE -> 12.51983\n",
      "R2 -> 0.8378\n",
      "C=2\n",
      "MSE -> 12.40418\n",
      "R2 -> 0.8393\n",
      "C=3\n",
      "MSE -> 12.35329\n",
      "R2 -> 0.83996\n",
      "C=4\n",
      "MSE -> 12.31908\n",
      "R2 -> 0.8404\n",
      "C=5\n",
      "MSE -> 12.29699\n",
      "R2 -> 0.84069\n",
      "C=6\n",
      "MSE -> 12.28012\n",
      "R2 -> 0.84091\n",
      "C=7\n",
      "MSE -> 12.27526\n",
      "R2 -> 0.84097\n",
      "C=8\n",
      "MSE -> 12.27007\n",
      "R2 -> 0.84104\n",
      "C=9\n",
      "MSE -> 12.26616\n",
      "R2 -> 0.84109\n",
      "C=10\n",
      "MSE -> 12.25529\n",
      "R2 -> 0.84123\n",
      "C=11\n",
      "MSE -> 12.24945\n",
      "R2 -> 0.8413\n",
      "C=12\n",
      "MSE -> 12.24427\n",
      "R2 -> 0.84137\n",
      "C=13\n",
      "MSE -> 12.23903\n",
      "R2 -> 0.84144\n",
      "C=14\n",
      "MSE -> 12.23848\n",
      "R2 -> 0.84145\n",
      "C=15\n",
      "MSE -> 12.23839\n",
      "R2 -> 0.84145\n",
      "C=16\n",
      "MSE -> 12.23765\n",
      "R2 -> 0.84146\n",
      "C=17\n",
      "MSE -> 12.23716\n",
      "R2 -> 0.84146\n",
      "C=18\n",
      "MSE -> 12.23393\n",
      "R2 -> 0.8415\n",
      "C=19\n",
      "MSE -> 12.23282\n",
      "R2 -> 0.84152\n",
      "C=20\n",
      "MSE -> 12.2327\n",
      "R2 -> 0.84152\n",
      "C=21\n",
      "MSE -> 12.23183\n",
      "R2 -> 0.84153\n",
      "C=22\n",
      "MSE -> 12.22957\n",
      "R2 -> 0.84156\n",
      "C=23\n",
      "MSE -> 12.22899\n",
      "R2 -> 0.84157\n",
      "C=24\n",
      "MSE -> 12.22964\n",
      "R2 -> 0.84156\n",
      "C=25\n",
      "MSE -> 12.23116\n",
      "R2 -> 0.84154\n",
      "C=26\n",
      "MSE -> 12.23192\n",
      "R2 -> 0.84153\n",
      "C=27\n",
      "MSE -> 12.23169\n",
      "R2 -> 0.84153\n",
      "C=28\n",
      "MSE -> 12.23058\n",
      "R2 -> 0.84155\n",
      "C=29\n",
      "MSE -> 12.23087\n",
      "R2 -> 0.84154\n",
      "C=30\n",
      "MSE -> 12.23014\n",
      "R2 -> 0.84155\n",
      "C=31\n",
      "MSE -> 12.2294\n",
      "R2 -> 0.84156\n",
      "C=32\n",
      "MSE -> 12.22935\n",
      "R2 -> 0.84156\n",
      "C=33\n",
      "MSE -> 12.22915\n",
      "R2 -> 0.84157\n",
      "C=34\n",
      "MSE -> 12.22946\n",
      "R2 -> 0.84156\n",
      "C=35\n",
      "MSE -> 12.22967\n",
      "R2 -> 0.84156\n",
      "C=36\n",
      "MSE -> 12.22965\n",
      "R2 -> 0.84156\n",
      "C=37\n",
      "MSE -> 12.22966\n",
      "R2 -> 0.84156\n",
      "C=38\n",
      "MSE -> 12.22945\n",
      "R2 -> 0.84156\n",
      "C=39\n",
      "MSE -> 12.22936\n",
      "R2 -> 0.84156\n",
      "C=40\n",
      "MSE -> 12.2297\n",
      "R2 -> 0.84156\n",
      "C=41\n",
      "MSE -> 12.2296\n",
      "R2 -> 0.84156\n",
      "C=42\n",
      "MSE -> 12.22867\n",
      "R2 -> 0.84157\n",
      "C=43\n",
      "MSE -> 12.22828\n",
      "R2 -> 0.84158\n",
      "C=44\n",
      "MSE -> 12.22817\n",
      "R2 -> 0.84158\n",
      "C=45\n",
      "MSE -> 12.22791\n",
      "R2 -> 0.84158\n",
      "C=46\n",
      "MSE -> 12.22706\n",
      "R2 -> 0.84159\n",
      "C=47\n",
      "MSE -> 12.22614\n",
      "R2 -> 0.84161\n",
      "C=48\n",
      "MSE -> 12.22526\n",
      "R2 -> 0.84162\n",
      "C=49\n",
      "MSE -> 12.22381\n",
      "R2 -> 0.84164\n",
      "C=50\n",
      "MSE -> 12.22385\n",
      "R2 -> 0.84163\n",
      "C=51\n",
      "MSE -> 12.22398\n",
      "R2 -> 0.84163\n",
      "C=52\n",
      "MSE -> 12.22456\n",
      "R2 -> 0.84163\n",
      "C=53\n",
      "MSE -> 12.22552\n",
      "R2 -> 0.84161\n",
      "C=54\n",
      "MSE -> 12.22611\n",
      "R2 -> 0.84161\n",
      "C=55\n",
      "MSE -> 12.22696\n",
      "R2 -> 0.84159\n",
      "C=56\n",
      "MSE -> 12.22799\n",
      "R2 -> 0.84158\n",
      "C=57\n",
      "MSE -> 12.22913\n",
      "R2 -> 0.84157\n",
      "C=58\n",
      "MSE -> 12.22933\n",
      "R2 -> 0.84156\n",
      "C=59\n",
      "MSE -> 12.22962\n",
      "R2 -> 0.84156\n",
      "C=60\n",
      "MSE -> 12.2299\n",
      "R2 -> 0.84156\n",
      "C=61\n",
      "MSE -> 12.23025\n",
      "R2 -> 0.84155\n",
      "C=62\n",
      "MSE -> 12.23043\n",
      "R2 -> 0.84155\n",
      "C=63\n",
      "MSE -> 12.23118\n",
      "R2 -> 0.84154\n",
      "C=64\n",
      "MSE -> 12.23181\n",
      "R2 -> 0.84153\n",
      "C=65\n",
      "MSE -> 12.23231\n",
      "R2 -> 0.84153\n",
      "C=66\n",
      "MSE -> 12.23275\n",
      "R2 -> 0.84152\n",
      "C=67\n",
      "MSE -> 12.2331\n",
      "R2 -> 0.84151\n",
      "C=68\n",
      "MSE -> 12.23347\n",
      "R2 -> 0.84151\n",
      "C=69\n",
      "MSE -> 12.23381\n",
      "R2 -> 0.84151\n",
      "C=70\n",
      "MSE -> 12.23421\n",
      "R2 -> 0.8415\n",
      "C=71\n",
      "MSE -> 12.23493\n",
      "R2 -> 0.84149\n",
      "C=72\n",
      "MSE -> 12.23568\n",
      "R2 -> 0.84148\n",
      "C=73\n",
      "MSE -> 12.23564\n",
      "R2 -> 0.84148\n",
      "C=74\n",
      "MSE -> 12.2356\n",
      "R2 -> 0.84148\n",
      "C=75\n",
      "MSE -> 12.23566\n",
      "R2 -> 0.84148\n",
      "C=76\n",
      "MSE -> 12.23588\n",
      "R2 -> 0.84148\n",
      "C=77\n",
      "MSE -> 12.23641\n",
      "R2 -> 0.84147\n",
      "C=78\n",
      "MSE -> 12.23685\n",
      "R2 -> 0.84147\n",
      "C=79\n",
      "MSE -> 12.23708\n",
      "R2 -> 0.84146\n",
      "C=80\n",
      "MSE -> 12.2373\n",
      "R2 -> 0.84146\n",
      "C=81\n",
      "MSE -> 12.2376\n",
      "R2 -> 0.84146\n",
      "C=82\n",
      "MSE -> 12.23769\n",
      "R2 -> 0.84146\n",
      "C=83\n",
      "MSE -> 12.23766\n",
      "R2 -> 0.84146\n",
      "C=84\n",
      "MSE -> 12.23778\n",
      "R2 -> 0.84145\n",
      "C=85\n",
      "MSE -> 12.238\n",
      "R2 -> 0.84145\n",
      "C=86\n",
      "MSE -> 12.23808\n",
      "R2 -> 0.84145\n",
      "C=87\n",
      "MSE -> 12.23801\n",
      "R2 -> 0.84145\n",
      "C=88\n",
      "MSE -> 12.23811\n",
      "R2 -> 0.84145\n",
      "C=89\n",
      "MSE -> 12.23793\n",
      "R2 -> 0.84145\n",
      "C=90\n",
      "MSE -> 12.23765\n",
      "R2 -> 0.84146\n",
      "C=91\n",
      "MSE -> 12.23752\n",
      "R2 -> 0.84146\n",
      "C=92\n",
      "MSE -> 12.23749\n",
      "R2 -> 0.84146\n",
      "C=93\n",
      "MSE -> 12.23755\n",
      "R2 -> 0.84146\n",
      "C=94\n",
      "MSE -> 12.23757\n",
      "R2 -> 0.84146\n",
      "C=95\n",
      "MSE -> 12.2375\n",
      "R2 -> 0.84146\n",
      "C=96\n",
      "MSE -> 12.23762\n",
      "R2 -> 0.84146\n",
      "C=97\n",
      "MSE -> 12.23753\n",
      "R2 -> 0.84146\n",
      "C=98\n",
      "MSE -> 12.23755\n",
      "R2 -> 0.84146\n",
      "C=99\n",
      "MSE -> 12.23775\n",
      "R2 -> 0.84145\n",
      "C=100\n",
      "MSE -> 12.23795\n",
      "R2 -> 0.84145\n"
     ]
    }
   ],
   "source": [
    "for i in range(1, 101):\n",
    "    model = SVR(\n",
    "        C=i,\n",
    "        epsilon=1\n",
    "    ).fit(X_train_pts, y_train_pts['PTS'])\n",
    "    proj = model.predict(X_test_pts)\n",
    "    mse = mean_squared_error(y_test_pts, proj)\n",
    "    r2 = r2_score(y_test_pts, proj)\n",
    "    print(f\"C={i}\\nMSE -> {round(mse, 5)}\\nR2 -> {round(r2, 5)}\")\n"
   ],
   "metadata": {
    "collapsed": false
   }
  },
  {
   "cell_type": "code",
   "execution_count": null,
   "outputs": [],
   "source": [],
   "metadata": {
    "collapsed": false
   }
  }
 ],
 "metadata": {
  "kernelspec": {
   "display_name": "Python 3",
   "language": "python",
   "name": "python3"
  },
  "language_info": {
   "codemirror_mode": {
    "name": "ipython",
    "version": 2
   },
   "file_extension": ".py",
   "mimetype": "text/x-python",
   "name": "python",
   "nbconvert_exporter": "python",
   "pygments_lexer": "ipython2",
   "version": "2.7.6"
  }
 },
 "nbformat": 4,
 "nbformat_minor": 0
}
